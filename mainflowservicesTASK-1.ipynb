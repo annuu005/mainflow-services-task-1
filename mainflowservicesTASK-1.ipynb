{
 "cells": [
  {
   "cell_type": "code",
   "execution_count": 84,
   "id": "45cf2ef8-13ef-4bfd-8286-f3f4280b48e1",
   "metadata": {},
   "outputs": [
    {
     "name": "stdout",
     "output_type": "stream",
     "text": [
      "1\n",
      "[1, 7]\n",
      "hello\n",
      "6\n",
      "[3, 'hello', 'Michael']\n",
      "[1, 7, 4, 6]\n",
      "0\n",
      "0\n",
      "None\n",
      "None\n",
      "[7, 6, 4, 1, 3]\n",
      "[7, 6, 1, 3]\n",
      "6\n",
      "[7, 1, 3]\n",
      "[7, 1, 3, 4, 5]\n",
      "\n",
      "\n",
      "\n",
      "\n",
      "\n",
      "\n",
      "[7, 1, 3, 4, 5]\n",
      "[3, 'hel', 'Michael', 2.0, [1, 2], False]\n"
     ]
    }
   ],
   "source": [
    "#defining a list\n",
    "x= [1, 7, 4, 6]\n",
    "#defining a list\n",
    "y= [3, 'hello', 'Michael', 2.0,False]\n",
    "\n",
    "\n",
    "#accessing elements from lists\n",
    "print(x[0])\n",
    "print(x[0:2])\n",
    "print(y[1])\n",
    "print(x[-1])\n",
    "print(y[:3])\n",
    "\n",
    "#updating a list\n",
    "y[1] = \"hel\"\n",
    "print(x)\n",
    "\n",
    "#indexing method \n",
    "print(x.index(1))\n",
    "#sorting a list\n",
    "print(x.count(5))\n",
    "print(x.sort())\n",
    "print(x.sort(reverse=True))\n",
    "#appending an element to list\n",
    "x.append(3)\n",
    "print(x)\n",
    "#removing element from a list\n",
    "x.remove(4)\n",
    "print(x)\n",
    "\n",
    "print(x.pop(1))\n",
    "print(x)\n",
    "#extending a list\n",
    "x.extend([4,5])\n",
    "print(x)\n",
    "\n",
    "y.insert(4, [1, 2])\n",
    "print(\"\\n\\n\\n\\n\\n\")\n",
    "\n",
    "print(x)\n",
    "print(y)"
   ]
  },
  {
   "cell_type": "code",
   "execution_count": 86,
   "id": "05338b08-1df9-42c1-8900-0d9a360d89a3",
   "metadata": {},
   "outputs": [
    {
     "name": "stdout",
     "output_type": "stream",
     "text": [
      "james\n",
      "dict_keys(['name', 'age'])\n",
      "dict_values(['huges', 29])\n",
      "{'name': 'henry', 'age': 31, 'address': '69 california'}\n",
      "{'name': 'henry', 'age': 30}\n",
      "{'name': 'Joyy', 'age': 30}\n",
      "dict_items([('name', 'rohy'), ('age', 34)])\n"
     ]
    }
   ],
   "source": [
    "#Accessing the key from the dictionary\n",
    "x= {'name': 'james', 'age': 25}\n",
    "print(x.get('name'))\n",
    "\n",
    "#Returns a list of all the keys and values in the dictionary\n",
    "my= {'name': 'huges', 'age': 29}\n",
    "print(my.keys())\n",
    "print(my.values())\n",
    "\n",
    "\n",
    "#Updating the list  key-value pairs to a dictionary \n",
    "y= {'name': 'henry', 'age': 39}\n",
    "y.update({'age': 31, 'address': '69 california'})\n",
    "print(y)\n",
    "\n",
    "#Removing the list key-value pair from a dictionary\n",
    "z= {'name': 'henry', 'age': 30, 'address': '74 california'}\n",
    "removed_value = z.pop('address')\n",
    "print(z)\n",
    "\n",
    "#Returns the last key-value pair added to the dictionary\n",
    "a= {'name': 'Joyy', 'age': 30, 'address': '25 walkway'}\n",
    "removed_pair = a.popitem()\n",
    "print(a)\n",
    "\n",
    "#return a list of all key-value pairs in the dictionary\n",
    "dict = {'name': 'rohy', 'age': 34}\n",
    "print(dict.items())"
   ]
  },
  {
   "cell_type": "code",
   "execution_count": 88,
   "id": "9b6da335-0ce2-458a-80d1-6c5b7db94014",
   "metadata": {},
   "outputs": [
    {
     "name": "stdout",
     "output_type": "stream",
     "text": [
      "('hello', 'world', 'good')\n",
      "3\n",
      "<class 'tuple'>\n",
      "hello\n",
      "everyone\n",
      "!!!\n",
      "('grapes', 'melons', 'apple', 'grapes', 'melons', 'apple')\n",
      "('a', 'b', 'c', 1, 2, 3)\n",
      "morning\n",
      "tue\n",
      "('everyone', 'how', 'are', 'you')\n",
      "('a', 'b', 'c', 1, 2, 3)\n"
     ]
    }
   ],
   "source": [
    "#defining a tuple\n",
    "xtup = (\"hello\", \"world\", \"good\")\n",
    "print(xtup)\n",
    "#defining the length of the tuple\n",
    "print(len(xtup))\n",
    "print(type(xtup))\n",
    "#various data types\n",
    "tupl = (\"hello\", 36, True, 20, \"female\")\n",
    "\n",
    "\n",
    "#loop through a tuple \n",
    "tttuple = (\"hello\", \"everyone\", \"!!!\")\n",
    "for z in tttuple:\n",
    "  print(z)\n",
    "\n",
    "#joining multiple tuples \n",
    "fruits = (\"grapes\", \"melons\", \"apple\")\n",
    "my__tuple = fruits * 2\n",
    "print(my__tuple)\n",
    "\n",
    "#joining two tuples\n",
    "t1 = (\"a\", \"b\" , \"c\")\n",
    "t2 = (1, 2, 3)\n",
    "t3 = t1 + t2\n",
    "print(t3)\n",
    "\n",
    "#accessing tuples\n",
    "tuple = (\"hello\", \"good\", \"morning\")\n",
    "print(tuple[2])\n",
    "\n",
    "tup= (\"mon\", \"tue\", \"wed\")\n",
    "print(tup[-2])\n",
    "\n",
    "ttuple = (\"hello\",\"everyone\",\"how\",\"are\",\"you\")\n",
    "print(ttuple[1:])\n",
    "\n",
    "#joining two tuples\n",
    "t1 = (\"a\", \"b\" , \"c\")\n",
    "t2 = (1, 2, 3)\n",
    "t3 = t1 + t2\n",
    "print(t3)"
   ]
  },
  {
   "cell_type": "code",
   "execution_count": 90,
   "id": "6aea77eb-03fd-4701-9fba-66af96a2643a",
   "metadata": {},
   "outputs": [
    {
     "name": "stdout",
     "output_type": "stream",
     "text": [
      "a greater than b\n",
      "Program ended\n",
      "b is greater than a\n",
      "Program ended\n",
      "letter is a\n",
      "letter is b\n",
      "b is greater than a\n"
     ]
    }
   ],
   "source": [
    "#conditional statements \n",
    "#if statement\n",
    "a=20\n",
    "b=10\n",
    "if a > b: \n",
    "\tprint(\"a greater than b\") \n",
    "print(\"Program ended\") \n",
    "\n",
    "#if-else statement\n",
    "a=100\n",
    "b=200\n",
    "if a > b: \n",
    "\tprint(\"a greater than b\")\n",
    "else:\n",
    "    print(\"b is greater than a\")\n",
    "print(\"Program ended\") \n",
    "\n",
    "# if..else chain statement \n",
    "x= \"a\"\n",
    "if x== \"b\": \n",
    "\tprint(\"letter is b\") \n",
    "else: \n",
    "\tif x== \"c\": \n",
    "\t\tprint(\"letter is c\") \n",
    "\telse: \n",
    "\t\tif x== \"a\": \n",
    "\t\t\tprint(\"letter is a\") \n",
    "\t\telse: \n",
    "\t\t\tprint(\"letter isn't a,b and c\") \n",
    "\n",
    "# if-elif statement example \n",
    "y = \"b\"\n",
    "\n",
    "if y== \"b\": \n",
    "\tprint(\"letter is b\") \n",
    "\n",
    "elif y== \"c\": \n",
    "\tprint(\"letter is c\") \n",
    "\n",
    "elif y== \"a\": \n",
    "\tprint(\"letter is a\") \n",
    "\n",
    "else: \n",
    "\tprint(\"letter isn't a,b or c\") \n",
    "\n",
    "# Python lambda expression\n",
    "a, b = 10, 20\n",
    "print (\"Both a and b are equal\" if a == b else \"a is greater than b\" if a > b else \"b is greater than a\")"
   ]
  },
  {
   "cell_type": "code",
   "execution_count": 92,
   "id": "163614a1-b8e7-449b-84c2-d0f3b991ba18",
   "metadata": {},
   "outputs": [
    {
     "name": "stdout",
     "output_type": "stream",
     "text": [
      "HELLO WORLD\n",
      "hello world\n",
      "Hello World\n",
      "HELLO WORLD\n",
      "Hello world\n"
     ]
    }
   ],
   "source": [
    "#string manupulation\n",
    "t= 'hello world'\n",
    "print(t.upper())\n",
    "print(t.lower())\n",
    "print(t.title())\n",
    "print(t.swapcase())\n",
    "print(t.capitalize())\n"
   ]
  },
  {
   "cell_type": "code",
   "execution_count": 94,
   "id": "4be3461c-d52d-4524-8180-26a70b96a0f7",
   "metadata": {},
   "outputs": [
    {
     "name": "stdout",
     "output_type": "stream",
     "text": [
      "30\n",
      "10\n",
      "200\n",
      "2.0\n",
      "2\n",
      "0\n",
      "10240000000000\n",
      "None\n"
     ]
    }
   ],
   "source": [
    "#arithmetic operations\n",
    "def main():\n",
    "  #Arithmetic operations \n",
    "    a = 20\n",
    "    b = 10\n",
    "    print(a+b)\n",
    "    print(a-b)\n",
    "    print(a*b)\n",
    "    print(a/b)\n",
    "    print(a//b)\n",
    "    print(a%b)\n",
    "    print(a**b)\n",
    "print(main())"
   ]
  },
  {
   "cell_type": "code",
   "execution_count": null,
   "id": "02159dd0-3cd8-45d5-83c2-81adcc2af69d",
   "metadata": {},
   "outputs": [],
   "source": []
  }
 ],
 "metadata": {
  "kernelspec": {
   "display_name": "Python 3 (ipykernel)",
   "language": "python",
   "name": "python3"
  },
  "language_info": {
   "codemirror_mode": {
    "name": "ipython",
    "version": 3
   },
   "file_extension": ".py",
   "mimetype": "text/x-python",
   "name": "python",
   "nbconvert_exporter": "python",
   "pygments_lexer": "ipython3",
   "version": "3.11.7"
  }
 },
 "nbformat": 4,
 "nbformat_minor": 5
}
