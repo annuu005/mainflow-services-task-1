{
 "cells": [
  {
   "cell_type": "code",
   "execution_count": 36,
   "id": "72a4ecfd-769d-406b-9bc0-75de0342aacc",
   "metadata": {},
   "outputs": [
    {
     "data": {
      "text/html": [
       "<div>\n",
       "<style scoped>\n",
       "    .dataframe tbody tr th:only-of-type {\n",
       "        vertical-align: middle;\n",
       "    }\n",
       "\n",
       "    .dataframe tbody tr th {\n",
       "        vertical-align: top;\n",
       "    }\n",
       "\n",
       "    .dataframe thead th {\n",
       "        text-align: right;\n",
       "    }\n",
       "</style>\n",
       "<table border=\"1\" class=\"dataframe\">\n",
       "  <thead>\n",
       "    <tr style=\"text-align: right;\">\n",
       "      <th></th>\n",
       "      <th>Name</th>\n",
       "      <th>HEX</th>\n",
       "      <th>RGB</th>\n",
       "    </tr>\n",
       "  </thead>\n",
       "  <tbody>\n",
       "    <tr>\n",
       "      <th>0</th>\n",
       "      <td>White</td>\n",
       "      <td>FFFFFF</td>\n",
       "      <td>rgb(100,100,100)</td>\n",
       "    </tr>\n",
       "    <tr>\n",
       "      <th>1</th>\n",
       "      <td>Silver</td>\n",
       "      <td>C0C0C0</td>\n",
       "      <td>rgb(75,75,75)</td>\n",
       "    </tr>\n",
       "    <tr>\n",
       "      <th>2</th>\n",
       "      <td>Gray</td>\n",
       "      <td>808080</td>\n",
       "      <td>rgb(50,50,50)</td>\n",
       "    </tr>\n",
       "    <tr>\n",
       "      <th>3</th>\n",
       "      <td>Black</td>\n",
       "      <td>NaN</td>\n",
       "      <td>rgb(0,0,0)</td>\n",
       "    </tr>\n",
       "    <tr>\n",
       "      <th>4</th>\n",
       "      <td>Red</td>\n",
       "      <td>FF0000</td>\n",
       "      <td>rgb(100,0,0)</td>\n",
       "    </tr>\n",
       "    <tr>\n",
       "      <th>5</th>\n",
       "      <td>Maroon</td>\n",
       "      <td>800000</td>\n",
       "      <td>rgb(50,0,0)</td>\n",
       "    </tr>\n",
       "    <tr>\n",
       "      <th>6</th>\n",
       "      <td>Yellow</td>\n",
       "      <td>FFFF00</td>\n",
       "      <td>rgb(100,0,0)</td>\n",
       "    </tr>\n",
       "    <tr>\n",
       "      <th>7</th>\n",
       "      <td>Olive</td>\n",
       "      <td>808000</td>\n",
       "      <td>rgb(0,50,0)</td>\n",
       "    </tr>\n",
       "    <tr>\n",
       "      <th>8</th>\n",
       "      <td>Lime</td>\n",
       "      <td>00FF00</td>\n",
       "      <td>rgb(0,100,100)</td>\n",
       "    </tr>\n",
       "    <tr>\n",
       "      <th>9</th>\n",
       "      <td>Green</td>\n",
       "      <td>8000</td>\n",
       "      <td>rgb(0,50,0)</td>\n",
       "    </tr>\n",
       "    <tr>\n",
       "      <th>10</th>\n",
       "      <td>Aqua</td>\n",
       "      <td>00FFFF</td>\n",
       "      <td>rgb(0,100,100)</td>\n",
       "    </tr>\n",
       "    <tr>\n",
       "      <th>11</th>\n",
       "      <td>Teal</td>\n",
       "      <td>8080</td>\n",
       "      <td>rgb(0,50,50)</td>\n",
       "    </tr>\n",
       "    <tr>\n",
       "      <th>12</th>\n",
       "      <td>Blue</td>\n",
       "      <td>0000FF</td>\n",
       "      <td>rgb(0,0,100)</td>\n",
       "    </tr>\n",
       "    <tr>\n",
       "      <th>13</th>\n",
       "      <td>Navy</td>\n",
       "      <td>80</td>\n",
       "      <td>rgb(0,50,50)</td>\n",
       "    </tr>\n",
       "    <tr>\n",
       "      <th>14</th>\n",
       "      <td>Fuchsia</td>\n",
       "      <td>NaN</td>\n",
       "      <td>rgb(100,0,0)</td>\n",
       "    </tr>\n",
       "    <tr>\n",
       "      <th>15</th>\n",
       "      <td>Purple</td>\n",
       "      <td>NaN</td>\n",
       "      <td>rgb(50,0,50)</td>\n",
       "    </tr>\n",
       "  </tbody>\n",
       "</table>\n",
       "</div>"
      ],
      "text/plain": [
       "       Name     HEX               RGB\n",
       "0     White  FFFFFF  rgb(100,100,100)\n",
       "1    Silver  C0C0C0     rgb(75,75,75)\n",
       "2      Gray  808080     rgb(50,50,50)\n",
       "3     Black     NaN        rgb(0,0,0)\n",
       "4       Red  FF0000      rgb(100,0,0)\n",
       "5    Maroon  800000       rgb(50,0,0)\n",
       "6    Yellow  FFFF00      rgb(100,0,0)\n",
       "7     Olive  808000       rgb(0,50,0)\n",
       "8      Lime  00FF00    rgb(0,100,100)\n",
       "9     Green    8000       rgb(0,50,0)\n",
       "10     Aqua  00FFFF    rgb(0,100,100)\n",
       "11     Teal    8080      rgb(0,50,50)\n",
       "12     Blue  0000FF      rgb(0,0,100)\n",
       "13     Navy      80      rgb(0,50,50)\n",
       "14  Fuchsia     NaN      rgb(100,0,0)\n",
       "15   Purple     NaN      rgb(50,0,50)"
      ]
     },
     "execution_count": 36,
     "metadata": {},
     "output_type": "execute_result"
    }
   ],
   "source": [
    "#read a CSV file\n",
    "import pandas as pd\n",
    "df = pd.read_csv('C:\\\\Users\\\\anees\\\\Downloads\\\\color.csv')\n",
    "df"
   ]
  },
  {
   "cell_type": "code",
   "execution_count": 40,
   "id": "10fa4474-3475-402a-8d94-755057d519f8",
   "metadata": {},
   "outputs": [
    {
     "name": "stdout",
     "output_type": "stream",
     "text": [
      "                  Name  HEX\n",
      "RGB                        \n",
      "rgb(0,0,0)           1    0\n",
      "rgb(0,0,100)         1    1\n",
      "rgb(0,100,100)       2    2\n",
      "rgb(0,50,0)          2    2\n",
      "rgb(0,50,50)         2    2\n",
      "rgb(100,0,0)         3    2\n",
      "rgb(100,100,100)     1    1\n",
      "rgb(50,0,0)          1    1\n",
      "rgb(50,0,50)         1    0\n",
      "rgb(50,50,50)        1    1\n",
      "rgb(75,75,75)        1    1\n"
     ]
    }
   ],
   "source": [
    "#data manipulation operations\n",
    "#grouping\n",
    "group=df.groupby('RGB')\n",
    "grp=group.count()\n",
    "print(grp)"
   ]
  },
  {
   "cell_type": "code",
   "execution_count": 42,
   "id": "f38129f4-7ca7-41b0-a54d-6138dd022284",
   "metadata": {},
   "outputs": [
    {
     "name": "stdout",
     "output_type": "stream",
     "text": [
      "    Name   HEX           RGB\n",
      "11  Teal  8080  rgb(0,50,50)\n",
      "13  Navy    80  rgb(0,50,50)\n"
     ]
    }
   ],
   "source": [
    "#data manipulation operations\n",
    "#filtering\n",
    "filter=df[df['RGB']=='rgb(0,50,50)']\n",
    "print(filter)"
   ]
  },
  {
   "cell_type": "code",
   "execution_count": 44,
   "id": "436f0033-2e16-4ef3-b541-a7dbaef5677d",
   "metadata": {},
   "outputs": [
    {
     "name": "stdout",
     "output_type": "stream",
     "text": [
      "       Name     HEX               RGB\n",
      "12     Blue  0000FF      rgb(0,0,100)\n",
      "8      Lime  00FF00    rgb(0,100,100)\n",
      "10     Aqua  00FFFF    rgb(0,100,100)\n",
      "13     Navy      80      rgb(0,50,50)\n",
      "9     Green    8000       rgb(0,50,0)\n",
      "5    Maroon  800000       rgb(50,0,0)\n",
      "11     Teal    8080      rgb(0,50,50)\n",
      "7     Olive  808000       rgb(0,50,0)\n",
      "2      Gray  808080     rgb(50,50,50)\n",
      "1    Silver  C0C0C0     rgb(75,75,75)\n",
      "4       Red  FF0000      rgb(100,0,0)\n",
      "6    Yellow  FFFF00      rgb(100,0,0)\n",
      "0     White  FFFFFF  rgb(100,100,100)\n",
      "3     Black     NaN        rgb(0,0,0)\n",
      "14  Fuchsia     NaN      rgb(100,0,0)\n",
      "15   Purple     NaN      rgb(50,0,50)\n"
     ]
    }
   ],
   "source": [
    "#data manipulation operations\n",
    "#sorting\n",
    "df=df.sort_values(by='HEX')\n",
    "print(df)"
   ]
  },
  {
   "cell_type": "code",
   "execution_count": 46,
   "id": "5242cd4a-3e66-4764-94cd-aa5a9a757951",
   "metadata": {},
   "outputs": [
    {
     "name": "stdout",
     "output_type": "stream",
     "text": [
      "None\n"
     ]
    }
   ],
   "source": [
    "#manipulating frames\n",
    "d=df.to_csv('color.csv',index=False)\n",
    "print(d)"
   ]
  },
  {
   "cell_type": "code",
   "execution_count": 48,
   "id": "b4cd19c2-25c3-45d2-92e8-7c549fb23c05",
   "metadata": {},
   "outputs": [
    {
     "name": "stdout",
     "output_type": "stream",
     "text": [
      "      Name     HEX               RGB\n",
      "12    Blue  0000FF      rgb(0,0,100)\n",
      "8     Lime  00FF00    rgb(0,100,100)\n",
      "13    Navy      80      rgb(0,50,50)\n",
      "9    Green    8000       rgb(0,50,0)\n",
      "5   Maroon  800000       rgb(50,0,0)\n",
      "2     Gray  808080     rgb(50,50,50)\n",
      "1   Silver  C0C0C0     rgb(75,75,75)\n",
      "4      Red  FF0000      rgb(100,0,0)\n",
      "0    White  FFFFFF  rgb(100,100,100)\n",
      "3    Black     NaN        rgb(0,0,0)\n",
      "15  Purple     NaN      rgb(50,0,50)\n"
     ]
    }
   ],
   "source": [
    "#removal of repeated or duplicate data\n",
    "df.drop(axis=0,index=8)\n",
    "drop=df.drop_duplicates(subset=['RGB'])\n",
    "print(drop)"
   ]
  },
  {
   "cell_type": "code",
   "execution_count": 76,
   "id": "9ba85f00-78e0-4757-ada4-9353d5d4d2ec",
   "metadata": {},
   "outputs": [
    {
     "name": "stdout",
     "output_type": "stream",
     "text": [
      "      Name     HEX               RGB\n",
      "0    White  FFFFFF  rgb(100,100,100)\n",
      "1   Silver  C0C0C0     rgb(75,75,75)\n",
      "2     Gray  808080     rgb(50,50,50)\n",
      "4      Red  FF0000      rgb(100,0,0)\n",
      "5   Maroon  800000       rgb(50,0,0)\n",
      "6   Yellow  FFFF00      rgb(100,0,0)\n",
      "7    Olive  808000       rgb(0,50,0)\n",
      "8     Lime  00FF00    rgb(0,100,100)\n",
      "9    Green    8000       rgb(0,50,0)\n",
      "10    Aqua  00FFFF    rgb(0,100,100)\n",
      "11    Teal    8080      rgb(0,50,50)\n",
      "12    Blue  0000FF      rgb(0,0,100)\n",
      "13    Navy      80      rgb(0,50,50)\n"
     ]
    }
   ],
   "source": [
    "#Remove NaN values\n",
    "import numpy as np\n",
    "df=pd.read_csv('C:\\\\Users\\\\anees\\\\Downloads\\\\color.csv')\n",
    "d=df.dropna()\n",
    "print(d)"
   ]
  },
  {
   "cell_type": "code",
   "execution_count": 86,
   "id": "0bc6ec37-7600-4bde-8dc8-5c59b7483e51",
   "metadata": {},
   "outputs": [
    {
     "name": "stdout",
     "output_type": "stream",
     "text": [
      "       Name     HEX               RGB\n",
      "0     White  FFFFFF  rgb(100,100,100)\n",
      "1    Silver  C0C0C0     rgb(75,75,75)\n",
      "2      Gray  808080     rgb(50,50,50)\n",
      "3     Black    FFFF        rgb(0,0,0)\n",
      "4       Red  FF0000      rgb(100,0,0)\n",
      "5    Maroon  800000       rgb(50,0,0)\n",
      "6    Yellow  FFFF00      rgb(100,0,0)\n",
      "7     Olive  808000       rgb(0,50,0)\n",
      "8      Lime  00FF00    rgb(0,100,100)\n",
      "9     Green    8000       rgb(0,50,0)\n",
      "10     Aqua  00FFFF    rgb(0,100,100)\n",
      "11     Teal    8080      rgb(0,50,50)\n",
      "12     Blue  0000FF      rgb(0,0,100)\n",
      "13     Navy      80      rgb(0,50,50)\n",
      "14  Fuchsia    FFFF      rgb(100,0,0)\n",
      "15   Purple    FFFF      rgb(50,0,50)\n"
     ]
    }
   ],
   "source": [
    "#replacing of NaN values\n",
    "df=pd.read_csv('C:\\\\Users\\\\anees\\\\Downloads\\\\color.csv')\n",
    "d=df.replace(np.NaN,'FFFF')\n",
    "print(d)\n"
   ]
  }
 ],
 "metadata": {
  "kernelspec": {
   "display_name": "Python 3 (ipykernel)",
   "language": "python",
   "name": "python3"
  },
  "language_info": {
   "codemirror_mode": {
    "name": "ipython",
    "version": 3
   },
   "file_extension": ".py",
   "mimetype": "text/x-python",
   "name": "python",
   "nbconvert_exporter": "python",
   "pygments_lexer": "ipython3",
   "version": "3.11.7"
  }
 },
 "nbformat": 4,
 "nbformat_minor": 5
}
